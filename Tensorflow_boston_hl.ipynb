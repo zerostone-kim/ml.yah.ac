{
  "nbformat": 4,
  "nbformat_minor": 0,
  "metadata": {
    "colab": {
      "name": "Tensorflow_boston_hl.ipynb",
      "provenance": [],
      "collapsed_sections": [],
      "authorship_tag": "ABX9TyOi32eORhL/N8vi8NUsPkAo",
      "include_colab_link": true
    },
    "kernelspec": {
      "name": "python3",
      "display_name": "Python 3"
    }
  },
  "cells": [
    {
      "cell_type": "markdown",
      "metadata": {
        "id": "view-in-github",
        "colab_type": "text"
      },
      "source": [
        "<a href=\"https://colab.research.google.com/github/zerostone-kim/ml.yah.ac/blob/master/Tensorflow_boston_hl.ipynb\" target=\"_parent\"><img src=\"https://colab.research.google.com/assets/colab-badge.svg\" alt=\"Open In Colab\"/></a>"
      ]
    },
    {
      "cell_type": "markdown",
      "metadata": {
        "id": "MQ-jvvmX4tBi"
      },
      "source": [
        "  - 보스톤: https://raw.githubusercontent.com/blackdew/tensorflow1/master/csv/boston.csv\n"
      ]
    },
    {
      "cell_type": "code",
      "metadata": {
        "id": "1W7SKI5J4iRu"
      },
      "source": [
        "# 라이브러리 호출\n",
        "import pandas as pd\n",
        "import tensorflow as tf"
      ],
      "execution_count": null,
      "outputs": []
    },
    {
      "cell_type": "code",
      "metadata": {
        "id": "chKHo0Tv480z",
        "outputId": "f9c61c3a-87dd-4da8-af6b-0d00989ea173",
        "colab": {
          "base_uri": "https://localhost:8080/",
          "height": 69
        }
      },
      "source": [
        "# 데이터 불러오기\n",
        "파일경로 = 'https://raw.githubusercontent.com/blackdew/tensorflow1/master/csv/boston.csv'\n",
        "보스톤 = pd.read_csv(파일경로)\n",
        "보스톤.head()\n",
        "print(보스톤.columns)\n",
        "\n"
      ],
      "execution_count": null,
      "outputs": [
        {
          "output_type": "stream",
          "text": [
            "Index(['crim', 'zn', 'indus', 'chas', 'nox', 'rm', 'age', 'dis', 'rad', 'tax',\n",
            "       'ptratio', 'b', 'lstat', 'medv'],\n",
            "      dtype='object')\n"
          ],
          "name": "stdout"
        }
      ]
    },
    {
      "cell_type": "code",
      "metadata": {
        "id": "yEnk8WcE6FAj"
      },
      "source": [
        "# 독립변수, 종속변수 선언\n",
        "독립변수 = 보스톤[['crim', 'zn', 'indus', 'chas', 'nox', 'rm', 'age', 'dis', 'rad', 'tax',\n",
        "       'ptratio', 'b', 'lstat']]\n",
        "종속변수 = 보스톤[['medv']]\n"
      ],
      "execution_count": null,
      "outputs": []
    },
    {
      "cell_type": "code",
      "metadata": {
        "id": "aKw9xmw85cZY"
      },
      "source": [
        "# 모델 구조를 만들기 \n",
        "X = tf.keras.layers.Input(shape=[13])\n",
        "\n",
        "# Hidden layer 추가\n",
        "H = tf.keras.layers.Dense(10, activation='swish')(X)\n",
        "H = tf.keras.layers.Dense(10, activation='swish')(H)\n",
        "\n",
        "# 입력값을 X 대신에 hidden layer 예 결과값 H 로 변환한다\n",
        "Y = tf.keras.layers.Dense(1)(H)\n",
        "\n",
        "model = tf.keras.models.Model(X, Y)\n",
        "model.compile(loss = 'mse')\n"
      ],
      "execution_count": null,
      "outputs": []
    },
    {
      "cell_type": "code",
      "metadata": {
        "id": "uAS9HxRPqJIt",
        "outputId": "39c0e3ab-81a4-46f6-c22c-bbaec6c1c394",
        "colab": {
          "base_uri": "https://localhost:8080/",
          "height": 262
        }
      },
      "source": [
        "model.summary()"
      ],
      "execution_count": null,
      "outputs": [
        {
          "output_type": "stream",
          "text": [
            "Model: \"functional_5\"\n",
            "_________________________________________________________________\n",
            "Layer (type)                 Output Shape              Param #   \n",
            "=================================================================\n",
            "input_3 (InputLayer)         [(None, 13)]              0         \n",
            "_________________________________________________________________\n",
            "dense_4 (Dense)              (None, 10)                140       \n",
            "_________________________________________________________________\n",
            "dense_5 (Dense)              (None, 1)                 11        \n",
            "=================================================================\n",
            "Total params: 151\n",
            "Trainable params: 151\n",
            "Non-trainable params: 0\n",
            "_________________________________________________________________\n"
          ],
          "name": "stdout"
        }
      ]
    },
    {
      "cell_type": "code",
      "metadata": {
        "id": "aAhtNuKV6gZH",
        "outputId": "ff530f4f-77cf-4f21-fc14-894e57fa080d",
        "colab": {
          "base_uri": "https://localhost:8080/",
          "height": 384
        }
      },
      "source": [
        "# 모델을 학습 시키자\n",
        "model.fit(독립변수, 종속변수, epochs=1000, verbose=0)\n",
        "model.fit(독립변수, 종속변수,epochs=10)"
      ],
      "execution_count": null,
      "outputs": [
        {
          "output_type": "stream",
          "text": [
            "Epoch 1/10\n",
            "16/16 [==============================] - 0s 1ms/step - loss: 16.0283\n",
            "Epoch 2/10\n",
            "16/16 [==============================] - 0s 1ms/step - loss: 18.4426\n",
            "Epoch 3/10\n",
            "16/16 [==============================] - 0s 1ms/step - loss: 17.8364\n",
            "Epoch 4/10\n",
            "16/16 [==============================] - 0s 1ms/step - loss: 17.3716\n",
            "Epoch 5/10\n",
            "16/16 [==============================] - 0s 1ms/step - loss: 16.9452\n",
            "Epoch 6/10\n",
            "16/16 [==============================] - 0s 1ms/step - loss: 16.4775\n",
            "Epoch 7/10\n",
            "16/16 [==============================] - 0s 1ms/step - loss: 19.9028\n",
            "Epoch 8/10\n",
            "16/16 [==============================] - 0s 1ms/step - loss: 15.8804\n",
            "Epoch 9/10\n",
            "16/16 [==============================] - 0s 1ms/step - loss: 18.3179\n",
            "Epoch 10/10\n",
            "16/16 [==============================] - 0s 1ms/step - loss: 17.1075\n"
          ],
          "name": "stdout"
        },
        {
          "output_type": "execute_result",
          "data": {
            "text/plain": [
              "<tensorflow.python.keras.callbacks.History at 0x7ff60dd39898>"
            ]
          },
          "metadata": {
            "tags": []
          },
          "execution_count": 6
        }
      ]
    },
    {
      "cell_type": "code",
      "metadata": {
        "id": "wLCzBzXJ7qvx",
        "outputId": "a8780418-e04e-42ef-806b-0e680f5608c0",
        "colab": {
          "base_uri": "https://localhost:8080/",
          "height": 104
        }
      },
      "source": [
        "print(model.predict(독립변수[0:5]))\n"
      ],
      "execution_count": null,
      "outputs": [
        {
          "output_type": "stream",
          "text": [
            "[[29.526304]\n",
            " [25.021278]\n",
            " [30.42949 ]\n",
            " [29.891298]\n",
            " [29.186834]]\n"
          ],
          "name": "stdout"
        }
      ]
    },
    {
      "cell_type": "code",
      "metadata": {
        "id": "8vIRMoZBgsPg",
        "outputId": "cdac6556-2029-4f83-bebd-e27f2c96b36c",
        "colab": {
          "base_uri": "https://localhost:8080/",
          "height": 122
        }
      },
      "source": [
        "print(종속변수[0:5])"
      ],
      "execution_count": null,
      "outputs": [
        {
          "output_type": "stream",
          "text": [
            "   medv\n",
            "0  24.0\n",
            "1  21.6\n",
            "2  34.7\n",
            "3  33.4\n",
            "4  36.2\n"
          ],
          "name": "stdout"
        }
      ]
    },
    {
      "cell_type": "code",
      "metadata": {
        "id": "dDS8xbCbg5RW",
        "outputId": "bbea0be9-c737-4dd2-bcab-530205a2fc8a",
        "colab": {
          "base_uri": "https://localhost:8080/",
          "height": 244
        }
      },
      "source": [
        "print(model.get_weights())"
      ],
      "execution_count": null,
      "outputs": [
        {
          "output_type": "stream",
          "text": [
            "[array([[-0.0851775 ],\n",
            "       [ 0.07946445],\n",
            "       [-0.06392796],\n",
            "       [ 3.4502492 ],\n",
            "       [ 2.0109394 ],\n",
            "       [ 3.5948324 ],\n",
            "       [ 0.02233931],\n",
            "       [-0.8564854 ],\n",
            "       [ 0.14103957],\n",
            "       [-0.00915761],\n",
            "       [ 0.11236321],\n",
            "       [ 0.01716757],\n",
            "       [-0.61238146]], dtype=float32), array([2.65906], dtype=float32)]\n"
          ],
          "name": "stdout"
        }
      ]
    }
  ]
}
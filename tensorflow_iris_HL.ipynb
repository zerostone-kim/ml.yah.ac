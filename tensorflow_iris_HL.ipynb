{
  "nbformat": 4,
  "nbformat_minor": 0,
  "metadata": {
    "colab": {
      "name": "tensorflow_iris_HL.ipynb",
      "provenance": [],
      "collapsed_sections": [],
      "authorship_tag": "ABX9TyPgnM90sZO0FkxlYjT07Dgu",
      "include_colab_link": true
    },
    "kernelspec": {
      "name": "python3",
      "display_name": "Python 3"
    }
  },
  "cells": [
    {
      "cell_type": "markdown",
      "metadata": {
        "id": "view-in-github",
        "colab_type": "text"
      },
      "source": [
        "<a href=\"https://colab.research.google.com/github/zerostone-kim/ml.yah.ac/blob/master/tensorflow_iris_HL.ipynb\" target=\"_parent\"><img src=\"https://colab.research.google.com/assets/colab-badge.svg\" alt=\"Open In Colab\"/></a>"
      ]
    },
    {
      "cell_type": "code",
      "metadata": {
        "id": "I_Hcy5iuy1Fb"
      },
      "source": [
        "# 데이터를 준비하자\n",
        "import pandas as pd\n",
        "import tensorflow as tf\n"
      ],
      "execution_count": 1,
      "outputs": []
    },
    {
      "cell_type": "code",
      "metadata": {
        "id": "_6PLjFmBy76A"
      },
      "source": [
        "# 데이터를 불러오자\n",
        "\n",
        "파일경로 =  'https://raw.githubusercontent.com/blackdew/tensorflow1/master/csv/iris.csv'\n",
        "아이리스 = pd.read_csv(파일경로)\n",
        "\n",
        "#원핫인코딩을 위한 코드추가\n",
        "아이리스 = pd.get_dummies(아이리스)"
      ],
      "execution_count": 3,
      "outputs": []
    },
    {
      "cell_type": "code",
      "metadata": {
        "id": "-cXEQezOy7zT",
        "outputId": "b5851045-57ef-4c41-c19e-a01e0c224b76",
        "colab": {
          "base_uri": "https://localhost:8080/",
          "height": 122
        }
      },
      "source": [
        "# 독립변수와 종속번수\n",
        "print(아이리스.head())\n",
        "\n",
        "독립 = 아이리스[['꽃잎길이','꽃잎폭','꽃받침길이','꽃받침폭']]\n",
        "종속 = 아이리스[['품종_setosa','품종_versicolor','품종_virginica']]\n"
      ],
      "execution_count": 4,
      "outputs": [
        {
          "output_type": "stream",
          "text": [
            "   꽃잎길이  꽃잎폭  꽃받침길이  꽃받침폭  품종_setosa  품종_versicolor  품종_virginica\n",
            "0   5.1  3.5    1.4   0.2          1              0             0\n",
            "1   4.9  3.0    1.4   0.2          1              0             0\n",
            "2   4.7  3.2    1.3   0.2          1              0             0\n",
            "3   4.6  3.1    1.5   0.2          1              0             0\n",
            "4   5.0  3.6    1.4   0.2          1              0             0\n"
          ],
          "name": "stdout"
        }
      ]
    },
    {
      "cell_type": "code",
      "metadata": {
        "id": "BOrzv9zky7rm"
      },
      "source": [
        "# 모델의 구조를 만들자\n",
        "X = tf.keras.layers.Input(shape=[4])\n",
        "\n",
        "# hidden layer 추가\n",
        "H = tf.keras.layers.Dense(4, activation='swish')(X)\n",
        "\n",
        "Y = tf.keras.layers.Dense(3, activation='softmax')(H)\n",
        "                          \n",
        "model = tf.keras.models.Model(X,Y)\n",
        "model.compile(loss='categorical_crossentropy', metrics='accuracy')\n"
      ],
      "execution_count": 5,
      "outputs": []
    },
    {
      "cell_type": "code",
      "metadata": {
        "id": "p4jA1z1_zHXM",
        "outputId": "363a1037-07e5-4962-ed46-e95d5d7d7a45",
        "colab": {
          "base_uri": "https://localhost:8080/",
          "height": 384
        }
      },
      "source": [
        "# 학습 시키자\n",
        "model.fit(독립, 종속, epochs=1000, verbose=0)\n",
        "model.fit(독립, 종속, epochs=10)"
      ],
      "execution_count": 6,
      "outputs": [
        {
          "output_type": "stream",
          "text": [
            "Epoch 1/10\n",
            "5/5 [==============================] - 0s 2ms/step - loss: 0.0629 - accuracy: 0.9867\n",
            "Epoch 2/10\n",
            "5/5 [==============================] - 0s 2ms/step - loss: 0.0633 - accuracy: 0.9800\n",
            "Epoch 3/10\n",
            "5/5 [==============================] - 0s 1ms/step - loss: 0.0629 - accuracy: 0.9867\n",
            "Epoch 4/10\n",
            "5/5 [==============================] - 0s 2ms/step - loss: 0.0619 - accuracy: 0.9867\n",
            "Epoch 5/10\n",
            "5/5 [==============================] - 0s 2ms/step - loss: 0.0636 - accuracy: 0.9800\n",
            "Epoch 6/10\n",
            "5/5 [==============================] - 0s 2ms/step - loss: 0.0615 - accuracy: 0.9867\n",
            "Epoch 7/10\n",
            "5/5 [==============================] - 0s 1ms/step - loss: 0.0625 - accuracy: 0.9800\n",
            "Epoch 8/10\n",
            "5/5 [==============================] - 0s 1ms/step - loss: 0.0629 - accuracy: 0.9800\n",
            "Epoch 9/10\n",
            "5/5 [==============================] - 0s 2ms/step - loss: 0.0643 - accuracy: 0.9800\n",
            "Epoch 10/10\n",
            "5/5 [==============================] - 0s 2ms/step - loss: 0.0617 - accuracy: 0.9867\n"
          ],
          "name": "stdout"
        },
        {
          "output_type": "execute_result",
          "data": {
            "text/plain": [
              "<tensorflow.python.keras.callbacks.History at 0x7f79d41a00b8>"
            ]
          },
          "metadata": {
            "tags": []
          },
          "execution_count": 6
        }
      ]
    },
    {
      "cell_type": "code",
      "metadata": {
        "id": "dCKFrukXzI_A",
        "outputId": "4325b1ac-4ebd-443b-a460-2d8ba872f3f3",
        "colab": {
          "base_uri": "https://localhost:8080/",
          "height": 209
        }
      },
      "source": [
        "# 예측해보자\n",
        "print(model.predict(독립[:5]))\n",
        "\n",
        "print(종속[:5])"
      ],
      "execution_count": 7,
      "outputs": [
        {
          "output_type": "stream",
          "text": [
            "[[9.9902976e-01 9.1953337e-04 5.0681254e-05]\n",
            " [9.9802053e-01 1.9117082e-03 6.7759807e-05]\n",
            " [9.9899083e-01 9.6146751e-04 4.7621132e-05]\n",
            " [9.9839312e-01 1.5532665e-03 5.3559106e-05]\n",
            " [9.9917406e-01 7.7923760e-04 4.6679583e-05]]\n",
            "   품종_setosa  품종_versicolor  품종_virginica\n",
            "0          1              0             0\n",
            "1          1              0             0\n",
            "2          1              0             0\n",
            "3          1              0             0\n",
            "4          1              0             0\n"
          ],
          "name": "stdout"
        }
      ]
    },
    {
      "cell_type": "code",
      "metadata": {
        "id": "sfaMPh8G7UEl",
        "outputId": "ff6eb4eb-e630-4061-ddd1-455e979761f5",
        "colab": {
          "base_uri": "https://localhost:8080/",
          "height": 209
        }
      },
      "source": [
        "model.get_weights()"
      ],
      "execution_count": 8,
      "outputs": [
        {
          "output_type": "execute_result",
          "data": {
            "text/plain": [
              "[array([[ 0.40622768, -0.04999721, -0.2824079 , -0.6935629 ],\n",
              "        [-1.0547166 , -0.5887844 ,  0.2706064 , -0.5175176 ],\n",
              "        [ 1.2785794 ,  0.6505694 , -0.42172727,  1.2230871 ],\n",
              "        [ 0.7120732 ,  0.37302554,  0.16927682,  1.1777883 ]],\n",
              "       dtype=float32),\n",
              " array([-0.232947 , -0.599976 ,  0.2021138, -0.673043 ], dtype=float32),\n",
              " array([[-2.8612819 ,  0.27507645, -0.64530206],\n",
              "        [-3.8296869 ,  0.17081134,  1.736896  ],\n",
              "        [-4.5450196 ,  1.9001039 ,  3.6920364 ],\n",
              "        [-3.8218307 , -2.5941708 ,  2.912188  ]], dtype=float32),\n",
              " array([ 4.3515434 , -0.06841998, -1.7146683 ], dtype=float32)]"
            ]
          },
          "metadata": {
            "tags": []
          },
          "execution_count": 8
        }
      ]
    }
  ]
}
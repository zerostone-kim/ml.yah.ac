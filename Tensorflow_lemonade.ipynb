{
  "nbformat": 4,
  "nbformat_minor": 0,
  "metadata": {
    "colab": {
      "name": "Tensorflow_lemonade.ipynb",
      "provenance": [],
      "collapsed_sections": [],
      "authorship_tag": "ABX9TyOH5xquUbiix0/EXmazkoN+",
      "include_colab_link": true
    },
    "kernelspec": {
      "name": "python3",
      "display_name": "Python 3"
    }
  },
  "cells": [
    {
      "cell_type": "markdown",
      "metadata": {
        "id": "view-in-github",
        "colab_type": "text"
      },
      "source": [
        "<a href=\"https://colab.research.google.com/github/zerostone-kim/ml.yah.ac/blob/master/Tensorflow_lemonade.ipynb\" target=\"_parent\"><img src=\"https://colab.research.google.com/assets/colab-badge.svg\" alt=\"Open In Colab\"/></a>"
      ]
    },
    {
      "cell_type": "markdown",
      "metadata": {
        "id": "UiVrzeo5Owad",
        "colab_type": "text"
      },
      "source": [
        "1 사용한 함수들을 선언하자\n"
      ]
    },
    {
      "cell_type": "code",
      "metadata": {
        "id": "x4hy6fv_Ooea",
        "colab_type": "code",
        "colab": {}
      },
      "source": [
        "import pandas as pd\n",
        "import tensorflow as tf"
      ],
      "execution_count": 20,
      "outputs": []
    },
    {
      "cell_type": "markdown",
      "metadata": {
        "id": "dxu3gsxhPU6H",
        "colab_type": "text"
      },
      "source": [
        "- 샘플 데이터 \n",
        "  - GitHub github link: https://github.com/blackdew/tensorflow1/tree/master/csv\n",
        "  - 레모네이드: https://raw.githubusercontent.com/blackdew/tensorflow1/master/csv/lemonade.csv\n",
        "  - 보스톤: https://raw.githubusercontent.com/blackdew/tensorflow1/master/csv/boston.csv\n",
        "  - 아이리스: https://raw.githubusercontent.com/blackdew/tensorflow1/master/csv/iris.csv\n"
      ]
    },
    {
      "cell_type": "code",
      "metadata": {
        "id": "_aStzE4lO3EG",
        "colab_type": "code",
        "colab": {
          "base_uri": "https://localhost:8080/",
          "height": 157
        },
        "outputId": "577a49a7-207a-4403-ec3f-831a8250ee9d"
      },
      "source": [
        "# 데이터를 읽어오자\n",
        "\n",
        "파일경로 = 'https://raw.githubusercontent.com/blackdew/tensorflow1/master/csv/lemonade.csv'\n",
        "\n",
        "레몬에이드 = pd.read_csv(파일경로)\n",
        "\n",
        "print(레몬에이드.shape)\n",
        "\n",
        "print(레몬에이드.columns)\n",
        "\n",
        "print(레몬에이드.head())"
      ],
      "execution_count": 21,
      "outputs": [
        {
          "output_type": "stream",
          "text": [
            "(6, 2)\n",
            "Index(['온도', '판매량'], dtype='object')\n",
            "   온도  판매량\n",
            "0  20   40\n",
            "1  21   42\n",
            "2  22   44\n",
            "3  23   46\n",
            "4  24   48\n"
          ],
          "name": "stdout"
        }
      ]
    },
    {
      "cell_type": "code",
      "metadata": {
        "id": "w933vESoR8_a",
        "colab_type": "code",
        "colab": {
          "base_uri": "https://localhost:8080/",
          "height": 34
        },
        "outputId": "0a8b509d-f17c-4b15-ddea-628b78c10294"
      },
      "source": [
        "# 독립변수와 종속변수\n",
        "\n",
        "독립변수 = 레몬에이드[['온도']]\n",
        "종속변수 = 레몬에이드[['판매량']]\n",
        "\n",
        "print(독립변수.shape, 종속변수.shape)\n"
      ],
      "execution_count": 22,
      "outputs": [
        {
          "output_type": "stream",
          "text": [
            "(6, 1) (6, 1)\n"
          ],
          "name": "stdout"
        }
      ]
    },
    {
      "cell_type": "code",
      "metadata": {
        "id": "DsZaO1UwSum8",
        "colab_type": "code",
        "colab": {}
      },
      "source": [
        "# 모델 구조\n",
        "\n",
        "X = tf.keras.layers.Input(shape=[1])\n",
        "Y = tf.keras.layers.Dense(1)(X)\n",
        "\n",
        "model = tf.keras.models.Model(X, Y)\n",
        "model.compile(loss='mse')\n"
      ],
      "execution_count": 23,
      "outputs": []
    },
    {
      "cell_type": "code",
      "metadata": {
        "id": "-cQc3BV9TWZC",
        "colab_type": "code",
        "colab": {
          "base_uri": "https://localhost:8080/",
          "height": 34
        },
        "outputId": "d57a619c-c7cc-45cc-ad24-4b4cd5eb8efb"
      },
      "source": [
        "# 모델에 데이터로 학습\n",
        "\n",
        "model.fit(독립변수, 종속변수, epochs=10000, verbose=0)\n",
        "\n"
      ],
      "execution_count": 35,
      "outputs": [
        {
          "output_type": "execute_result",
          "data": {
            "text/plain": [
              "<tensorflow.python.keras.callbacks.History at 0x7ff5961646a0>"
            ]
          },
          "metadata": {
            "tags": []
          },
          "execution_count": 35
        }
      ]
    },
    {
      "cell_type": "code",
      "metadata": {
        "id": "tlhNS4DLVAFv",
        "colab_type": "code",
        "colab": {
          "base_uri": "https://localhost:8080/",
          "height": 122
        },
        "outputId": "794082ba-debf-4344-8c9d-68f870d56c7a"
      },
      "source": [
        "# 만들어진 모델로 X 데이터에 대한 결과를 출력해보자\n",
        "model.predict(독립변수)"
      ],
      "execution_count": 36,
      "outputs": [
        {
          "output_type": "execute_result",
          "data": {
            "text/plain": [
              "array([[39.996178],\n",
              "       [41.99313 ],\n",
              "       [43.990086],\n",
              "       [45.987038],\n",
              "       [47.98399 ],\n",
              "       [49.980946]], dtype=float32)"
            ]
          },
          "metadata": {
            "tags": []
          },
          "execution_count": 36
        }
      ]
    },
    {
      "cell_type": "code",
      "metadata": {
        "id": "9POxTiMdVUyx",
        "colab_type": "code",
        "colab": {
          "base_uri": "https://localhost:8080/",
          "height": 34
        },
        "outputId": "f8afec7a-052c-427c-8849-c4b2161e1dd1"
      },
      "source": [
        "# 모델을 기반으로 예측해보자\n",
        "\n",
        "model.predict([[17]])"
      ],
      "execution_count": 37,
      "outputs": [
        {
          "output_type": "execute_result",
          "data": {
            "text/plain": [
              "array([[34.005314]], dtype=float32)"
            ]
          },
          "metadata": {
            "tags": []
          },
          "execution_count": 37
        }
      ]
    }
  ]
}
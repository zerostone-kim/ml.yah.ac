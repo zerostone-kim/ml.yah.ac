{
  "nbformat": 4,
  "nbformat_minor": 0,
  "metadata": {
    "colab": {
      "name": "Tensorflow_boston.ipynb",
      "provenance": [],
      "collapsed_sections": [],
      "authorship_tag": "ABX9TyNZVqtp3rp+Xc73LrHVcsPW",
      "include_colab_link": true
    },
    "kernelspec": {
      "name": "python3",
      "display_name": "Python 3"
    }
  },
  "cells": [
    {
      "cell_type": "markdown",
      "metadata": {
        "id": "view-in-github",
        "colab_type": "text"
      },
      "source": [
        "<a href=\"https://colab.research.google.com/github/zerostone-kim/ml.yah.ac/blob/master/Tensorflow_boston.ipynb\" target=\"_parent\"><img src=\"https://colab.research.google.com/assets/colab-badge.svg\" alt=\"Open In Colab\"/></a>"
      ]
    },
    {
      "cell_type": "markdown",
      "metadata": {
        "id": "MQ-jvvmX4tBi",
        "colab_type": "text"
      },
      "source": [
        "  - 보스톤: https://raw.githubusercontent.com/blackdew/tensorflow1/master/csv/boston.csv\n"
      ]
    },
    {
      "cell_type": "code",
      "metadata": {
        "id": "1W7SKI5J4iRu",
        "colab_type": "code",
        "colab": {}
      },
      "source": [
        "# 라이브러리 호출\n",
        "import pandas as pd\n",
        "import tensorflow as tf"
      ],
      "execution_count": 1,
      "outputs": []
    },
    {
      "cell_type": "code",
      "metadata": {
        "id": "chKHo0Tv480z",
        "colab_type": "code",
        "colab": {
          "base_uri": "https://localhost:8080/",
          "height": 69
        },
        "outputId": "5b7a917b-19b7-46c1-aaed-5f60d75123df"
      },
      "source": [
        "# 데이터 불러오기\n",
        "파일경로 = 'https://raw.githubusercontent.com/blackdew/tensorflow1/master/csv/boston.csv'\n",
        "보스톤 = pd.read_csv(파일경로)\n",
        "보스톤.head()\n",
        "print(보스톤.columns)\n",
        "\n"
      ],
      "execution_count": 2,
      "outputs": [
        {
          "output_type": "stream",
          "text": [
            "Index(['crim', 'zn', 'indus', 'chas', 'nox', 'rm', 'age', 'dis', 'rad', 'tax',\n",
            "       'ptratio', 'b', 'lstat', 'medv'],\n",
            "      dtype='object')\n"
          ],
          "name": "stdout"
        }
      ]
    },
    {
      "cell_type": "code",
      "metadata": {
        "id": "yEnk8WcE6FAj",
        "colab_type": "code",
        "colab": {}
      },
      "source": [
        "# 독립변수, 종속변수 선언\n",
        "독립변수 = 보스톤[['crim', 'zn', 'indus', 'chas', 'nox', 'rm', 'age', 'dis', 'rad', 'tax',\n",
        "       'ptratio', 'b', 'lstat']]\n",
        "종속변수 = 보스톤[['medv']]\n"
      ],
      "execution_count": 3,
      "outputs": []
    },
    {
      "cell_type": "code",
      "metadata": {
        "id": "aKw9xmw85cZY",
        "colab_type": "code",
        "colab": {}
      },
      "source": [
        "# 모델 구조를 만들기\n",
        "X = tf.keras.layers.Input(shape=[13])\n",
        "Y = tf.keras.layers.Dense(1)(X)\n",
        "\n",
        "model = tf.keras.models.Model(X, Y)\n",
        "model.compile(loss = 'mse')\n"
      ],
      "execution_count": 8,
      "outputs": []
    },
    {
      "cell_type": "code",
      "metadata": {
        "id": "kym51Irq6pua",
        "colab_type": "code",
        "colab": {}
      },
      "source": [
        ""
      ],
      "execution_count": null,
      "outputs": []
    },
    {
      "cell_type": "code",
      "metadata": {
        "id": "aAhtNuKV6gZH",
        "colab_type": "code",
        "colab": {
          "base_uri": "https://localhost:8080/",
          "height": 384
        },
        "outputId": "8b32ca71-316c-4695-df9f-9da6bf30b04d"
      },
      "source": [
        "# 모델을 학습 시키자\n",
        "model.fit(독립변수, 종속변수, epochs=1000, verbose=0)\n",
        "model.fit(독립변수, 종속변수,epochs=10)"
      ],
      "execution_count": 9,
      "outputs": [
        {
          "output_type": "stream",
          "text": [
            "Epoch 1/10\n",
            "16/16 [==============================] - 0s 1ms/step - loss: 26.8796\n",
            "Epoch 2/10\n",
            "16/16 [==============================] - 0s 1ms/step - loss: 26.8562\n",
            "Epoch 3/10\n",
            "16/16 [==============================] - 0s 896us/step - loss: 26.2752\n",
            "Epoch 4/10\n",
            "16/16 [==============================] - 0s 1ms/step - loss: 26.8169\n",
            "Epoch 5/10\n",
            "16/16 [==============================] - 0s 1ms/step - loss: 26.4393\n",
            "Epoch 6/10\n",
            "16/16 [==============================] - 0s 1ms/step - loss: 27.1207\n",
            "Epoch 7/10\n",
            "16/16 [==============================] - 0s 2ms/step - loss: 26.7613\n",
            "Epoch 8/10\n",
            "16/16 [==============================] - 0s 1ms/step - loss: 26.8828\n",
            "Epoch 9/10\n",
            "16/16 [==============================] - 0s 2ms/step - loss: 26.6314\n",
            "Epoch 10/10\n",
            "16/16 [==============================] - 0s 2ms/step - loss: 26.2923\n"
          ],
          "name": "stdout"
        },
        {
          "output_type": "execute_result",
          "data": {
            "text/plain": [
              "<tensorflow.python.keras.callbacks.History at 0x7ff9ad858f28>"
            ]
          },
          "metadata": {
            "tags": []
          },
          "execution_count": 9
        }
      ]
    },
    {
      "cell_type": "code",
      "metadata": {
        "id": "wLCzBzXJ7qvx",
        "colab_type": "code",
        "colab": {
          "base_uri": "https://localhost:8080/",
          "height": 104
        },
        "outputId": "283af126-f7db-4e67-cf72-ee8a8eef6554"
      },
      "source": [
        "print(model.predict(독립변수[0:5]))\n"
      ],
      "execution_count": 14,
      "outputs": [
        {
          "output_type": "stream",
          "text": [
            "[[30.020042]\n",
            " [25.419611]\n",
            " [30.910374]\n",
            " [30.240192]\n",
            " [29.592846]]\n"
          ],
          "name": "stdout"
        }
      ]
    },
    {
      "cell_type": "code",
      "metadata": {
        "id": "8vIRMoZBgsPg",
        "colab_type": "code",
        "colab": {
          "base_uri": "https://localhost:8080/",
          "height": 122
        },
        "outputId": "1f68f47b-7885-456f-e808-c884d87f811f"
      },
      "source": [
        "print(종속변수[0:5])"
      ],
      "execution_count": 15,
      "outputs": [
        {
          "output_type": "stream",
          "text": [
            "   medv\n",
            "0  24.0\n",
            "1  21.6\n",
            "2  34.7\n",
            "3  33.4\n",
            "4  36.2\n"
          ],
          "name": "stdout"
        }
      ]
    },
    {
      "cell_type": "code",
      "metadata": {
        "id": "dDS8xbCbg5RW",
        "colab_type": "code",
        "colab": {
          "base_uri": "https://localhost:8080/",
          "height": 244
        },
        "outputId": "2ba5d644-136b-4074-bf6a-d35edb811fad"
      },
      "source": [
        "print(model.get_weights())"
      ],
      "execution_count": 16,
      "outputs": [
        {
          "output_type": "stream",
          "text": [
            "[array([[-0.08810679],\n",
            "       [ 0.0763748 ],\n",
            "       [-0.06060759],\n",
            "       [ 3.5158226 ],\n",
            "       [ 1.945556  ],\n",
            "       [ 3.7846909 ],\n",
            "       [ 0.01993389],\n",
            "       [-0.88960445],\n",
            "       [ 0.14474212],\n",
            "       [-0.00821334],\n",
            "       [ 0.06456134],\n",
            "       [ 0.01685816],\n",
            "       [-0.5915255 ]], dtype=float32), array([2.7470107], dtype=float32)]\n"
          ],
          "name": "stdout"
        }
      ]
    }
  ]
}
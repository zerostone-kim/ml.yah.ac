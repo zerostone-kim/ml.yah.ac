{
  "nbformat": 4,
  "nbformat_minor": 0,
  "metadata": {
    "colab": {
      "name": "tensorflow_iris.ipynb",
      "provenance": [],
      "collapsed_sections": [],
      "authorship_tag": "ABX9TyOD43pGvgYkD/e8J6aQUIp3",
      "include_colab_link": true
    },
    "kernelspec": {
      "name": "python3",
      "display_name": "Python 3"
    }
  },
  "cells": [
    {
      "cell_type": "markdown",
      "metadata": {
        "id": "view-in-github",
        "colab_type": "text"
      },
      "source": [
        "<a href=\"https://colab.research.google.com/github/zerostone-kim/ml.yah.ac/blob/master/tensorflow_iris.ipynb\" target=\"_parent\"><img src=\"https://colab.research.google.com/assets/colab-badge.svg\" alt=\"Open In Colab\"/></a>"
      ]
    },
    {
      "cell_type": "code",
      "metadata": {
        "id": "I_Hcy5iuy1Fb"
      },
      "source": [
        "# 데이터를 준비하자\n",
        "import pandas as pd\n",
        "import tensorflow as tf\n"
      ],
      "execution_count": 14,
      "outputs": []
    },
    {
      "cell_type": "code",
      "metadata": {
        "id": "_6PLjFmBy76A"
      },
      "source": [
        "# 데이터를 불러오자\n",
        "\n",
        "파일경로 =  'https://raw.githubusercontent.com/blackdew/tensorflow1/master/csv/iris.csv'\n",
        "아이리스 = pd.read_csv(파일경로)\n",
        "\n",
        "#원핫인코딩을 위한 코드추가\n",
        "아이리스 = pd.get_dummies(아이리스)"
      ],
      "execution_count": 19,
      "outputs": []
    },
    {
      "cell_type": "code",
      "metadata": {
        "id": "-cXEQezOy7zT",
        "outputId": "6bedf09f-0173-45cd-ba92-c2be2d1c9095",
        "colab": {
          "base_uri": "https://localhost:8080/",
          "height": 122
        }
      },
      "source": [
        "# 독립변수와 종속번수\n",
        "print(아이리스.head())\n",
        "\n",
        "독립 = 아이리스[['꽃잎길이','꽃잎폭','꽃받침길이','꽃받침폭']]\n",
        "종속 = 아이리스[['품종_setosa','품종_versicolor','품종_virginica']]\n"
      ],
      "execution_count": 22,
      "outputs": [
        {
          "output_type": "stream",
          "text": [
            "   꽃잎길이  꽃잎폭  꽃받침길이  꽃받침폭  품종_setosa  품종_versicolor  품종_virginica\n",
            "0   5.1  3.5    1.4   0.2          1              0             0\n",
            "1   4.9  3.0    1.4   0.2          1              0             0\n",
            "2   4.7  3.2    1.3   0.2          1              0             0\n",
            "3   4.6  3.1    1.5   0.2          1              0             0\n",
            "4   5.0  3.6    1.4   0.2          1              0             0\n"
          ],
          "name": "stdout"
        }
      ]
    },
    {
      "cell_type": "code",
      "metadata": {
        "id": "BOrzv9zky7rm"
      },
      "source": [
        "# 모델의 구조를 만들자\n",
        "X = tf.keras.layers.Input(shape=[4])\n",
        "Y = tf.keras.layers.Dense(3, activation='softmax')(X)\n",
        "                          \n",
        "model = tf.keras.models.Model(X,Y)\n",
        "model.compile(loss='categorical_crossentropy', metrics='accuracy')\n"
      ],
      "execution_count": 23,
      "outputs": []
    },
    {
      "cell_type": "code",
      "metadata": {
        "id": "p4jA1z1_zHXM",
        "outputId": "93fb698d-d068-4a1f-b268-67756a747c4b",
        "colab": {
          "base_uri": "https://localhost:8080/",
          "height": 384
        }
      },
      "source": [
        "# 학습 시키자\n",
        "model.fit(독립, 종속, epochs=1000, verbose=0)\n",
        "model.fit(독립, 종속, epochs=10)"
      ],
      "execution_count": 24,
      "outputs": [
        {
          "output_type": "stream",
          "text": [
            "Epoch 1/10\n",
            "5/5 [==============================] - 0s 2ms/step - loss: 0.1690 - accuracy: 0.9533\n",
            "Epoch 2/10\n",
            "5/5 [==============================] - 0s 2ms/step - loss: 0.1683 - accuracy: 0.9600\n",
            "Epoch 3/10\n",
            "5/5 [==============================] - 0s 3ms/step - loss: 0.1687 - accuracy: 0.9667\n",
            "Epoch 4/10\n",
            "5/5 [==============================] - 0s 2ms/step - loss: 0.1680 - accuracy: 0.9600\n",
            "Epoch 5/10\n",
            "5/5 [==============================] - 0s 2ms/step - loss: 0.1684 - accuracy: 0.9600\n",
            "Epoch 6/10\n",
            "5/5 [==============================] - 0s 2ms/step - loss: 0.1678 - accuracy: 0.9600\n",
            "Epoch 7/10\n",
            "5/5 [==============================] - 0s 2ms/step - loss: 0.1681 - accuracy: 0.9667\n",
            "Epoch 8/10\n",
            "5/5 [==============================] - 0s 2ms/step - loss: 0.1680 - accuracy: 0.9667\n",
            "Epoch 9/10\n",
            "5/5 [==============================] - 0s 2ms/step - loss: 0.1677 - accuracy: 0.9600\n",
            "Epoch 10/10\n",
            "5/5 [==============================] - 0s 2ms/step - loss: 0.1677 - accuracy: 0.9600\n"
          ],
          "name": "stdout"
        },
        {
          "output_type": "execute_result",
          "data": {
            "text/plain": [
              "<tensorflow.python.keras.callbacks.History at 0x7f5a1c191ba8>"
            ]
          },
          "metadata": {
            "tags": []
          },
          "execution_count": 24
        }
      ]
    },
    {
      "cell_type": "code",
      "metadata": {
        "id": "dCKFrukXzI_A",
        "outputId": "c456c4ab-93d9-4e7b-dcb5-d768f7ab0528",
        "colab": {
          "base_uri": "https://localhost:8080/",
          "height": 209
        }
      },
      "source": [
        "# 예측해보자\n",
        "print(model.predict(독립[:5]))\n",
        "\n",
        "print(종속[:5])"
      ],
      "execution_count": 27,
      "outputs": [
        {
          "output_type": "stream",
          "text": [
            "[[9.9889439e-01 1.1054638e-03 1.2241223e-07]\n",
            " [9.9566263e-01 4.3360810e-03 1.3464261e-06]\n",
            " [9.9801219e-01 1.9874130e-03 3.9890395e-07]\n",
            " [9.9457502e-01 5.4233894e-03 1.5214259e-06]\n",
            " [9.9910742e-01 8.9241256e-04 8.1885027e-08]]\n",
            "   품종_setosa  품종_versicolor  품종_virginica\n",
            "0          1              0             0\n",
            "1          1              0             0\n",
            "2          1              0             0\n",
            "3          1              0             0\n",
            "4          1              0             0\n"
          ],
          "name": "stdout"
        }
      ]
    },
    {
      "cell_type": "code",
      "metadata": {
        "id": "sfaMPh8G7UEl",
        "outputId": "8c535789-7eb0-408f-ed6c-f1ed6f5a96fc",
        "colab": {
          "base_uri": "https://localhost:8080/",
          "height": 104
        }
      },
      "source": [
        "model.get_weights()"
      ],
      "execution_count": 28,
      "outputs": [
        {
          "output_type": "execute_result",
          "data": {
            "text/plain": [
              "[array([[ 0.1895346 , -0.23678091, -0.3670378 ],\n",
              "        [ 2.930098  ,  0.36073133, -1.6493843 ],\n",
              "        [-3.547478  , -0.00863935,  0.5951469 ],\n",
              "        [-3.9609783 , -2.0770092 ,  2.0008323 ]], dtype=float32),\n",
              " array([ 2.1993084,  1.2287499, -1.8407865], dtype=float32)]"
            ]
          },
          "metadata": {
            "tags": []
          },
          "execution_count": 28
        }
      ]
    }
  ]
}